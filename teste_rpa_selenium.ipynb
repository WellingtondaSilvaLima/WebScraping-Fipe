{
 "cells": [
  {
   "cell_type": "markdown",
   "metadata": {},
   "source": [
    "'''\n",
    "\n",
    "Algoritmo:\n",
    "1. Abre o site https://veiculos.fipe.org.br/#carro-comum\n",
    "2. Extrai os dados de carros, caminhões e motos\n",
    "3. Exporta para uma planilha com três abas, uma para cada\n",
    "\n",
    "'''"
   ]
  },
  {
   "cell_type": "code",
   "execution_count": 1,
   "metadata": {},
   "outputs": [],
   "source": [
    "from selenium import webdriver\n",
    "from selenium.webdriver.chrome.service import Service\n",
    "from selenium.webdriver.common.by import By\n",
    "from time import sleep\n",
    "import pandas as pd\n",
    "from tkinter import messagebox"
   ]
  },
  {
   "cell_type": "code",
   "execution_count": 2,
   "metadata": {},
   "outputs": [],
   "source": [
    "caminho = r'C:\\Users\\wellington\\Desktop\\Suporte Atendimento\\projetos\\APIFipe\\APIFipe\\chromedriver-win64\\chromedriver.exe'  # Path do chromedriver\n",
    "servico = Service(caminho)  # Configura o serviço do ChromeDriver\n",
    "navegador = webdriver.Chrome(service=servico)  # Cria o navegador\n",
    "navegador.set_window_size(930,1014)  # Define o tamanho da tela"
   ]
  },
  {
   "cell_type": "code",
   "execution_count": 3,
   "metadata": {},
   "outputs": [],
   "source": [
    "def extrai_veiculos(veiculos:list) -> tuple:\n",
    "  '''\n",
    "  Inicia a extração dos veículos da tabela FIPE\n",
    "\n",
    "  Parâmetros:\n",
    "    - veiculos: é uma das posições da tabela de veículos da FIPE (carros, caminhões ou motos)\n",
    "  \n",
    "  Retorno:\n",
    "    - tuple: tupla com todos os modelos, anos e montadoras\n",
    "  '''\n",
    "  veiculos.click()\n",
    "  carros = veiculos.find_element(By.CLASS_NAME, 'horizontal')\n",
    "  artigos_html = carros.find_elements(By.TAG_NAME, 'article')\n",
    "  formulario = artigos_html[0].find_element(By.CLASS_NAME, 'form')\n",
    "  step_1 = formulario.find_element(By.CLASS_NAME, 'step-1')\n",
    "  step_2 = formulario.find_element(By.CLASS_NAME, 'step-2')\n",
    "  entrada_carros = step_1.find_element(By.CLASS_NAME, 'input')\n",
    "\n",
    "  sleep(0.8)\n",
    "  entrada_carros.click()\n",
    "  \n",
    "  seletor = entrada_carros.find_element(By.TAG_NAME, 'select')\n",
    "  opcoes_carros = seletor.find_elements(By.TAG_NAME, 'option')\n",
    "\n",
    "  lista_montadoras = []\n",
    "  lista_anos = []\n",
    "  lista_modelos = []\n",
    "  for op in opcoes_carros:\n",
    "    if op.text == '': continue\n",
    "\n",
    "    lista_montadoras.append(op.text)\n",
    "    sleep(0.8)\n",
    "    op.click()\n",
    "    tupla_listas = seleciona_ano(step_2)\n",
    "    lista_anos.append(tupla_listas[0])\n",
    "    lista_modelos.append(tupla_listas[1])\n",
    "  \n",
    "  sleep(0.8)\n",
    "  entrada_carros.click()\n",
    "  \n",
    "  return (lista_montadoras, lista_anos, lista_modelos)\n",
    "  \n",
    "\n",
    "\n",
    "def seleciona_ano(step_2) -> tuple:\n",
    "  '''\n",
    "  Extrai todos os anos da montadora em questão\n",
    "\n",
    "  Parâmetros:\n",
    "    - step_2: o step-2 da tabela, onde se localiza a lista de anos e modelos da montadora selecionada\n",
    "\n",
    "  Retorna:\n",
    "    - tuple: uma tupla com os modelos e os anos\n",
    "  '''\n",
    "  entradas = step_2.find_elements(By.CLASS_NAME, 'input')\n",
    "\n",
    "  sleep(0.8)\n",
    "  entradas[1].click()\n",
    "\n",
    "  seletor = entradas[1].find_element(By.TAG_NAME, 'select')\n",
    "  opcoes_ano = seletor.find_elements(By.TAG_NAME, 'option')\n",
    "\n",
    "  lista_anos = []\n",
    "  lista_modelos = []\n",
    "  for op in opcoes_ano:\n",
    "    if op.text == '': continue\n",
    "\n",
    "    lista_anos.append(op.text)\n",
    "    sleep(0.8)\n",
    "    op.click()\n",
    "    item_modelos = seleciona_modelo(entradas[0])\n",
    "    lista_modelos.append(item_modelos)\n",
    "  \n",
    "  return (lista_anos, lista_modelos)\n",
    "\n",
    "\n",
    "def seleciona_modelo(entrada) -> list:\n",
    "  '''\n",
    "  Extrai todos os modelos do ano em questão\n",
    "\n",
    "  Parâmetros:\n",
    "    - entrada: um input do step-2 da tabela, onde se localiza a lista de modelos do ano selecionado\n",
    "\n",
    "  Retorna:\n",
    "    - list: uma lista com os modelos do an1.5\n",
    "  '''\n",
    "  sleep(0.8)\n",
    "  entrada.click()\n",
    "\n",
    "  seletor = entrada.find_element(By.TAG_NAME, 'select')\n",
    "  opcoes_modelo = seletor.find_elements(By.TAG_NAME, 'option')\n",
    "\n",
    "  lista_modelos = []\n",
    "  for op in opcoes_modelo:\n",
    "    if op.text == '': continue\n",
    "    \n",
    "    lista_modelos.append(op.text)\n",
    "\n",
    "  return lista_modelos"
   ]
  },
  {
   "cell_type": "code",
   "execution_count": 7,
   "metadata": {},
   "outputs": [],
   "source": [
    "sleep(0.8)\n",
    "\n",
    "navegador.get('https://veiculos.fipe.org.br/#carro-comum')\n",
    "\n",
    "messagebox.showinfo(title='Início', message='Pode iniciar?')\n",
    "\n",
    "tabela_veiculos = navegador.find_element(By.CLASS_NAME, 'tab-veiculos')\n",
    "veiculos = tabela_veiculos.find_elements(By.CLASS_NAME, 'ilustra')\n"
   ]
  },
  {
   "cell_type": "code",
   "execution_count": 10,
   "metadata": {},
   "outputs": [
    {
     "data": {
      "text/plain": [
       "'ok'"
      ]
     },
     "execution_count": 10,
     "metadata": {},
     "output_type": "execute_result"
    }
   ],
   "source": [
    "# CARROS \n",
    "tupla_modelos = extrai_veiculos(veiculos[0])\n",
    "\n",
    "montadoras = tupla_modelos[0]\n",
    "anos = tupla_modelos[1]\n",
    "modelos = tupla_modelos[2]\n",
    "\n",
    "montadoras_lista = []\n",
    "anos_lista = []\n",
    "modelos_lista = []\n",
    "ciclo_montadora = 0\n",
    "while ciclo_montadora < len(montadoras):\n",
    "  for index_ano in range(len(anos[ciclo_montadora])):\n",
    "    for index_mod in range(len(modelos[ciclo_montadora][index_ano])):\n",
    "      montadoras_lista.append(montadoras[ciclo_montadora])\n",
    "      anos_lista.append(anos[ciclo_montadora][index_ano])\n",
    "      modelos_lista.append(modelos[ciclo_montadora][index_ano][index_mod])\n",
    "\n",
    "  ciclo_montadora += 1\n",
    "\n",
    "montadoras_ano_carros = {\n",
    "        'Montadrora': montadoras_lista,\n",
    "        'Ano': anos_lista,\n",
    "        'Modelo': modelos_lista\n",
    "        }\n",
    "\n",
    "veiculos_totais = pd.DataFrame(montadoras_ano_carros)\n",
    "\n",
    "veiculos_totais.to_excel('FIPE.xlsx')\n",
    "messagebox.showinfo(title='Fipe - Carros', message='A Tabela da Fipe Carros foi atualizada!')\n"
   ]
  },
  {
   "cell_type": "code",
   "execution_count": 5,
   "metadata": {},
   "outputs": [
    {
     "data": {
      "text/plain": [
       "'ok'"
      ]
     },
     "execution_count": 5,
     "metadata": {},
     "output_type": "execute_result"
    }
   ],
   "source": [
    "# CAMINHÕES\n",
    "tupla_modelos = extrai_veiculos(veiculos[1])\n",
    "\n",
    "montadoras = tupla_modelos[0]\n",
    "anos = tupla_modelos[1]\n",
    "modelos = tupla_modelos[2]\n",
    "\n",
    "montadoras_lista = []\n",
    "anos_lista = []\n",
    "modelos_lista = []\n",
    "ciclo_montadora = 0\n",
    "while ciclo_montadora < len(montadoras):\n",
    "  for index_ano in range(len(anos[ciclo_montadora])):\n",
    "    for index_mod in range(len(modelos[ciclo_montadora][index_ano])):\n",
    "      montadoras_lista.append(montadoras[ciclo_montadora])\n",
    "      anos_lista.append(anos[ciclo_montadora][index_ano])\n",
    "      modelos_lista.append(modelos[ciclo_montadora][index_ano][index_mod])\n",
    "\n",
    "  ciclo_montadora += 1\n",
    "\n",
    "montadoras_ano_carros = {\n",
    "        'Montadrora': montadoras_lista,\n",
    "        'Ano': anos_lista,\n",
    "        'Modelo': modelos_lista\n",
    "        }\n",
    "\n",
    "veiculos_totais = pd.DataFrame(montadoras_ano_carros)\n",
    "\n",
    "veiculos_totais.to_excel('FIPE-Caminhão.xlsx')\n",
    "messagebox.showinfo(title='Fipe - Caminhões', message='A Tabela da Fipe Caminhões foi atualizada!')"
   ]
  },
  {
   "cell_type": "code",
   "execution_count": 11,
   "metadata": {},
   "outputs": [
    {
     "data": {
      "text/plain": [
       "'ok'"
      ]
     },
     "execution_count": 11,
     "metadata": {},
     "output_type": "execute_result"
    }
   ],
   "source": [
    "# MOTOS\n",
    "tupla_modelos = extrai_veiculos(veiculos[2])\n",
    "\n",
    "montadoras = tupla_modelos[0]\n",
    "anos = tupla_modelos[1]\n",
    "modelos = tupla_modelos[2]\n",
    "\n",
    "montadoras_lista = []\n",
    "anos_lista = []\n",
    "modelos_lista = []\n",
    "ciclo_montadora = 0\n",
    "while ciclo_montadora < len(montadoras):\n",
    "  for index_ano in range(len(anos[ciclo_montadora])):\n",
    "    for index_mod in range(len(modelos[ciclo_montadora][index_ano])):\n",
    "      montadoras_lista.append(montadoras[ciclo_montadora])\n",
    "      anos_lista.append(anos[ciclo_montadora][index_ano])\n",
    "      modelos_lista.append(modelos[ciclo_montadora][index_ano][index_mod])\n",
    "\n",
    "  ciclo_montadora += 1\n",
    "\n",
    "montadoras_ano_carros = {\n",
    "        'Montadrora': montadoras_lista,\n",
    "        'Ano': anos_lista,\n",
    "        'Modelo': modelos_lista\n",
    "        }\n",
    "\n",
    "veiculos = pd.DataFrame(montadoras_ano_carros)\n",
    "\n",
    "veiculos.to_excel('FIPE-Motos.xlsx')\n",
    "messagebox.showinfo(title='Fipe - Motos', message='A Tabela da Fipe Motos foi atualizada!')"
   ]
  }
 ],
 "metadata": {
  "kernelspec": {
   "display_name": "venv",
   "language": "python",
   "name": "python3"
  },
  "language_info": {
   "codemirror_mode": {
    "name": "ipython",
    "version": 3
   },
   "file_extension": ".py",
   "mimetype": "text/x-python",
   "name": "python",
   "nbconvert_exporter": "python",
   "pygments_lexer": "ipython3",
   "version": "3.12.5"
  }
 },
 "nbformat": 4,
 "nbformat_minor": 2
}
